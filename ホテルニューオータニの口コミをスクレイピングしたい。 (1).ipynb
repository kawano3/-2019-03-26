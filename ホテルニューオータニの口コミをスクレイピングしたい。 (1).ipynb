{
  "nbformat": 4,
  "nbformat_minor": 0,
  "metadata": {
    "colab": {
      "name": "ホテルニューオータニの口コミをスクレイピングしたい。",
      "version": "0.3.2",
      "provenance": [],
      "collapsed_sections": []
    },
    "kernelspec": {
      "name": "python3",
      "display_name": "Python 3"
    }
  },
  "cells": [
    {
      "metadata": {
        "id": "0cdIm_3gPP8K",
        "colab_type": "code",
        "outputId": "17419d89-7066-415b-b2ee-c93e887c413b",
        "colab": {
          "base_uri": "https://localhost:8080/",
          "height": 122
        }
      },
      "cell_type": "code",
      "source": [
        "pip install selenium"
      ],
      "execution_count": 0,
      "outputs": [
        {
          "output_type": "stream",
          "text": [
            "Collecting selenium\n",
            "\u001b[?25l  Downloading https://files.pythonhosted.org/packages/80/d6/4294f0b4bce4de0abf13e17190289f9d0613b0a44e5dd6a7f5ca98459853/selenium-3.141.0-py2.py3-none-any.whl (904kB)\n",
            "\u001b[K    100% |████████████████████████████████| 911kB 13.9MB/s \n",
            "\u001b[?25hRequirement already satisfied: urllib3 in /usr/local/lib/python3.6/dist-packages (from selenium) (1.22)\n",
            "Installing collected packages: selenium\n",
            "Successfully installed selenium-3.141.0\n"
          ],
          "name": "stdout"
        }
      ]
    },
    {
      "metadata": {
        "id": "odqkw6V2b78t",
        "colab_type": "code",
        "outputId": "901c1dda-9bc7-49f4-e2f8-554cf401e5a5",
        "colab": {
          "base_uri": "https://localhost:8080/",
          "height": 34
        }
      },
      "cell_type": "code",
      "source": [
        "pip install beautifulsoup4"
      ],
      "execution_count": 0,
      "outputs": [
        {
          "output_type": "stream",
          "text": [
            "Requirement already satisfied: beautifulsoup4 in /usr/local/lib/python3.6/dist-packages (4.6.3)\n"
          ],
          "name": "stdout"
        }
      ]
    },
    {
      "metadata": {
        "id": "gwirKeuDwpZF",
        "colab_type": "code",
        "outputId": "cb07b9a7-1d0b-474c-cc06-7b078657c448",
        "colab": {
          "base_uri": "https://localhost:8080/",
          "height": 124
        }
      },
      "cell_type": "code",
      "source": [
        "pip install requests"
      ],
      "execution_count": 0,
      "outputs": [
        {
          "output_type": "stream",
          "text": [
            "Requirement already satisfied: requests in /usr/local/lib/python3.6/dist-packages (2.18.4)\n",
            "Requirement already satisfied: idna<2.7,>=2.5 in /usr/local/lib/python3.6/dist-packages (from requests) (2.6)\n",
            "Requirement already satisfied: urllib3<1.23,>=1.21.1 in /usr/local/lib/python3.6/dist-packages (from requests) (1.22)\n",
            "Requirement already satisfied: chardet<3.1.0,>=3.0.2 in /usr/local/lib/python3.6/dist-packages (from requests) (3.0.4)\n",
            "Requirement already satisfied: certifi>=2017.4.17 in /usr/local/lib/python3.6/dist-packages (from requests) (2019.3.9)\n"
          ],
          "name": "stdout"
        }
      ]
    },
    {
      "metadata": {
        "id": "TbKGHTwrSotN",
        "colab_type": "code",
        "outputId": "18c3b54a-56ba-455f-8410-97dbc1bffddf",
        "colab": {
          "base_uri": "https://localhost:8080/",
          "height": 1682
        }
      },
      "cell_type": "code",
      "source": [
        "import requests\n",
        "from bs4 import BeautifulSoup\n",
        " \n",
        "r = requests.get(\"https://www.mwed.jp/hall/11063/rev/\")\n",
        " \n",
        "soup = BeautifulSoup(r.content, \"html.parser\")\n",
        "print(soup.find_all(\"p\"))"
      ],
      "execution_count": 0,
      "outputs": [
        {
          "output_type": "stream",
          "text": [
            "[<p class=\"clrS fontSS pd10b\">\n",
            "結婚式、披露宴を福岡で考えているお二人へ。「ホテルニューオータニ博多」は、福岡市エリアのホテルです。挙式や外観、会場内の写真から式場の雰囲気をつかんだら、先輩カップルが投稿した実際の費用と料金プランを見比べたり、結婚式場口コミで料理やスタッフ、進行演出、衣装や施設の評価をチェック。気になったら、ブライダルフェア・見学予約をして式場訪問してみましょう。\n",
            "</p>, <p class=\"fltL fontS mg10t\"> \n",
            "有名で昔からあるホテルなので古いのかと思っていましたが、披露宴会場もチャペルもリニューアルされているからか、とても綺麗でお洒落でした。エレベーターを降りてすぐのところに案内してくださる女性の方がいらして...</p>, <p class=\"fltL fontS mg10t\"> \n",
            "ホテル式場なので、ロビー・チャペル・披露宴会場それぞれの落ち着いた雰囲気が素晴らしかったです。会場内の飾りも１つ１つ品がありました。チャペルは広く、ゆったりと座ることができました。\n",
            "\n",
            " \n",
            "あまり派手に誰...</p>, <p class=\"fltL fontS mg10t\"> \n",
            "100名で328万円でした。内容的にはしっかりとライブエンドロールやプロフィールビデオ、記念撮影２冊などが含まれている。ただし当日成約特典が40万円含まれていたので、\n",
            "実際は370万円ほどになると思いま...</p>, <p class=\"b mg10b taC\">\n",
            "この式場についてわからないことがある場合は、先輩花嫁・花婿に相談してみましょう\n",
            "</p>, <p class=\"place-question-infeed-text taC\">\n",
            "・提携ショップのドレスは種類多い？\n",
            "・装花のグレードはどれにしましたか？\n",
            "</p>, <p class=\"fltL fontS mg10t\"> \n",
            "見積りについてはとてもわかりやすく説明してくださいます。\n",
            "「この見積りに入っている装花代なら、この位のボリューム・雰囲気になります」と、金額付きの写真を沢山見せていただきました。\n",
            "今まで数件ブライダルフ...</p>, <p class=\"fltL fontS mg10t\"> \n",
            "私は和装洋装4着使用したので\n",
            "金額は上がりましたが、平均的だと思います。\n",
            "\n",
            " \n",
            "豪華な雰囲気が私達の理想でした。なので素敵な披露宴会場で理想の演出ができました！また、ディズニーがイメージの私達の結婚式(...</p>, <p class=\"fltL fontS mg10t\"> \n",
            "ホテルウェディングですし、必要なものはほとんど入れてもらったのでこれぐらいなのかなと思います。1社目に行ったので、これから回るところの見積もりが出てからまた費用の相談にのって頂けるそうで安くはなると思い...</p>, <p class=\"fltL fontS mg10t\"> \n",
            "老舗のホテルなので安定感のある挙式会場と披露宴会場でした。\n",
            "設備は時折若干古い感じはありましたが、全体的には満足です。\n",
            "挙式会場はフロアに灯される青い光がとても幻想的でした。\n",
            "披露宴会場は大人数でも対応...</p>, <p class=\"fltL fontS mg10t\"> \n",
            "ホテルでもあるので建物は広かったですが、会場は迷いませんでした。\n",
            "またチャペルは新しい印象でホテルウェディングのチャペルらしい所でした。\n",
            "披露宴会場は大変広く、飾り付けが豪華だったり、ウェディングケーキ...</p>, <p class=\"fltL fontS mg10t\"> \n",
            "元々予想をしていた金額より費用を抑えることができました。プランナーさんがとても親切な方で、丁寧に私たちのやりたい結婚式がどんなものなのかを聞いてくれました。それに必要なものは何なのかを細かく分析していた...</p>, <p class=\"fltL fontS mg10t\"> \n",
            "見積りは13人で60万ほどでした。新郎新婦の小物等見積りに入っていないものもあるのでここから少し値上がりするとは思いますがそれでもとても良心的な値段だと思います。\n",
            "\n",
            " \n",
            "式場は白を基調としておりとても可...</p>, <p class=\"fltL fontS mg10t\"> \n",
            "ホテルウエディングにしてはわりとお安かったイメージです。ただ、見積りをいただいただけなので、実際の値上がりもあるのかもしれません。\n",
            "\n",
            " \n",
            "式場フロアは新しくなっているようで、好きな雰囲気でした。ホテルウ...</p>, <p class=\"fltL fontS mg10t\"> \n",
            "最初の見積もりからは、約80万円増えました。\n",
            "最初の見積もりでは、本当に最低限の物しか含まれていません。\n",
            "招待状もプラン内でおさめようとすると、2、3種類の中からしか選べませんでした。\n",
            "\n",
            " \n",
            "会場は天井...</p>, <p class=\"fltL fontS mg10t\"> \n",
            "基本プランと企業特典でかなり割引がありました。また、期間限定の特典でエステ6回、挙式料、音響設備などをプレゼントして頂き大変助かりました。衣装は3つ着ましたが、どれも自分が好きだと思えるものが見つかりま...</p>, <p class=\"fltL fontS mg10t\"> \n",
            "ホテル式場なので、高いだろうと思ってましたが、思ったほどありませんでした！\n",
            "\n",
            " \n",
            "豪華な披露宴会場が気に入りました！\n",
            "神殿も厳かな雰囲気が良かったです。\n",
            "\n",
            " \n",
            "ディズニーが好きという私の言葉に沢山アイデ...</p>, <p class=\"fltL fontS mg10t\"> \n",
            "ハウスウェディングよりは若干高いのかなという印象は受けました。ただ、ホテルプライスなので仕方ないのかなとも思います。ハウスウェディングのような割引はあまりなかったです。\n",
            "\n",
            " \n",
            "さすが、ホテル！！という感...</p>, <p class=\"fltL fontS mg10t\"> \n",
            "他社の見積もりと比べながらの見積もり作成でしたが、思ったよりも高額ではなく、かつ、割引無しでの見積もりだったので、今後検討する上で割引等を検討してくださるとのことで、金額面での不安は無かったです。\n",
            "\n",
            " ...</p>, <p class=\"fltL fontS mg10t\"> \n",
            "基本プランはどうやっても超えてしまいます。家族婚であげたので、初期費用は30万の予定でしたが、終わる頃には50万を超えていました。こだわりが多いほど高くなりますが、衣装が元々ホテルブランドで高めだったの...</p>, <p class=\"fltL fontS mg10t\"> \n",
            "見積もりはまだするかも分からない演出なども色々入れて出して頂きました。\n",
            "一流ホテルなので高いのかなぁと思いましたが、派手な演出などが無ければ思っている以上に良心的なお値段という印象です♪♪\n",
            "\n",
            " \n",
            "チャペ...</p>, <p class=\"fltL fontS mg10t\"> \n",
            "落ち着いた雰囲気でした。5月は式を挙げる方が多いのか人がたくさんいた気がします。待機場所がたくさんあったので式の後の披露宴までの時間など心地よい時間を過ごせました。\n",
            "\n",
            " \n",
            "今流行り？のフラッシュモブのよ...</p>, <p class=\"fltL fontS mg10t\"> \n",
            "新しくできたチャペルは白が基調で明るく清潔感があり、とてもよかったです。ホテルなのでロビーや披露宴会場に開放感がありくつろげて、快適な時間を過ごす事ができました。\n",
            "\n",
            " \n",
            "盛り上がるところは盛り上がり、感...</p>, <p class=\"fltL fontS mg10t\"> \n",
            "株主優待のサービスや、様々な特典をつけていただき、明快な見積を出していただくことができました。他ホテルに出してもらった見積よりもたくさんの特典がつき、値段が低くなったので驚きました。\n",
            "\n",
            " \n",
            "3階のブライ...</p>, <p class=\"fltL fontS mg10t\"> \n",
            "衣装持込み前提（90名）で最初にもらった見積もり:240万円、必要項目の追加をお願いした見積もり：297万円、最終費用（100名）：280万円(特典40万円分割引+ペーパーアイテム・ブーケなど持込みにし...</p>, <p class=\"fltL fontS mg10t\"> \n",
            "天井にヒビや老朽化が目立った\n",
            "\n",
            "絨毯にガムテープが貼られていたり、現実的な感じだった。\n",
            "\n",
            "新婦さんが、和装だったのですが、所作などある程度教えてあげてほしかった。かんざしが途中取れていた\n",
            "\n",
            "宴会場のトイ...</p>, <p class=\"fltL fontS mg10t\"> \n",
            "高級ホテルともあって見積もりは少し気になる部分でしたが、見学の時に受けたサービスだと考えると、コスパが良いと思います。お料理をグレードアップで一人当たり5000円あげてもらったので全体的に金額は上がりま...</p>, <p class=\"fltL fontS mg10t\"> \n",
            "イベントの日だったようで、イベント特典がついていました。想像していたよりも希望に近い金額でご案内して頂きました。\n",
            "\n",
            " \n",
            "ロビーがとても広く、落ち着く雰囲気でした。\n",
            "チャペルがリニューアルオープンをしてい...</p>, <p class=\"b fontL mg10b\">あなたの疑問は解決しましたか？</p>, <p>わからない事があれば、この式場に決めた先輩花嫁・花婿に相談してみましょう</p>]\n"
          ],
          "name": "stdout"
        }
      ]
    },
    {
      "metadata": {
        "id": "GORPZTqRFMGN",
        "colab_type": "code",
        "colab": {}
      },
      "cell_type": "code",
      "source": [
        ""
      ],
      "execution_count": 0,
      "outputs": []
    }
  ]
}