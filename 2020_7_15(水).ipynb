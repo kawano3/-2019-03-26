{
  "nbformat": 4,
  "nbformat_minor": 0,
  "metadata": {
    "colab": {
      "name": "2020/7/15(水).ipynb",
      "provenance": [],
      "collapsed_sections": [],
      "authorship_tag": "ABX9TyMTBLkFBrRVl4vyc4KEeJSm",
      "include_colab_link": true
    },
    "kernelspec": {
      "name": "python3",
      "display_name": "Python 3"
    }
  },
  "cells": [
    {
      "cell_type": "markdown",
      "metadata": {
        "id": "view-in-github",
        "colab_type": "text"
      },
      "source": [
        "<a href=\"https://colab.research.google.com/github/kawano3/python-colabo/blob/master/2020_7_15(%E6%B0%B4).ipynb\" target=\"_parent\"><img src=\"https://colab.research.google.com/assets/colab-badge.svg\" alt=\"Open In Colab\"/></a>"
      ]
    },
    {
      "cell_type": "code",
      "metadata": {
        "id": "HEj6RrRkRGmh",
        "colab_type": "code",
        "colab": {
          "base_uri": "https://localhost:8080/",
          "height": 373
        },
        "outputId": "707378f4-f5b4-4f0f-87e0-9064c01e69d8"
      },
      "source": [
        "# range(20)の範囲内でiを0から繰り返す\n",
        "# 繰り返す処理は　print(i)\n",
        "# 引数iをプリントする\n",
        "for i in range(20):\n",
        "    print(i)\n",
        "# 演習：range(20)の数字を変えてみる"
      ],
      "execution_count": null,
      "outputs": [
        {
          "output_type": "stream",
          "text": [
            "0\n",
            "1\n",
            "2\n",
            "3\n",
            "4\n",
            "5\n",
            "6\n",
            "7\n",
            "8\n",
            "9\n",
            "10\n",
            "11\n",
            "12\n",
            "13\n",
            "14\n",
            "15\n",
            "16\n",
            "17\n",
            "18\n",
            "19\n"
          ],
          "name": "stdout"
        }
      ]
    },
    {
      "cell_type": "code",
      "metadata": {
        "id": "GiPayGQBRPo1",
        "colab_type": "code",
        "colab": {
          "base_uri": "https://localhost:8080/",
          "height": 177
        },
        "outputId": "e19efcf7-542b-4b95-9bd6-42125ade65ac"
      },
      "source": [
        "# nameベクトル定義\n",
        "names = ['4年河野', '4年原', '4年外園', '4年江頭','大学院_伊藤ゼミ_八重島', '3年中村','2年大西', '2年菊池', '2年山崎']\n",
        "for i in range(9):\n",
        "    print(names[i])"
      ],
      "execution_count": null,
      "outputs": [
        {
          "output_type": "stream",
          "text": [
            "4年河野\n",
            "4年原\n",
            "4年外園\n",
            "4年江頭\n",
            "大学院_伊藤ゼミ_八重島\n",
            "3年中村\n",
            "2年大西\n",
            "2年菊池\n",
            "2年山崎\n"
          ],
          "name": "stdout"
        }
      ]
    },
    {
      "cell_type": "code",
      "metadata": {
        "id": "AGuFvAQzRQFy",
        "colab_type": "code",
        "colab": {
          "base_uri": "https://localhost:8080/",
          "height": 177
        },
        "outputId": "db019e0d-99b2-48de-b867-65aa22aeec75"
      },
      "source": [
        "# 繰り返す　range(5)の数字を変えてみる\n",
        "for i in range(9):\n",
        "    print('{}さん'.format(names[i]))"
      ],
      "execution_count": null,
      "outputs": [
        {
          "output_type": "stream",
          "text": [
            "4年河野さん\n",
            "4年原さん\n",
            "4年外園さん\n",
            "4年江頭さん\n",
            "大学院_伊藤ゼミ_八重島さん\n",
            "3年中村さん\n",
            "2年大西さん\n",
            "2年菊池さん\n",
            "2年山崎さん\n"
          ],
          "name": "stdout"
        }
      ]
    },
    {
      "cell_type": "code",
      "metadata": {
        "id": "73h5QSFLR3f5",
        "colab_type": "code",
        "colab": {
          "base_uri": "https://localhost:8080/",
          "height": 337
        },
        "outputId": "0aaf448c-1a00-456c-b8cf-d12675d43334"
      },
      "source": [
        "#　ベクトルnamesの長さをlenで読み込んで、これをrangeの範囲指定に使う。\n",
        "for i in range(len(names)):\n",
        "    print('{}さん'.format(names[i]))\n",
        "\n",
        "for test in names:\n",
        "    print('{}さん'.format(test))"
      ],
      "execution_count": null,
      "outputs": [
        {
          "output_type": "stream",
          "text": [
            "4年河野さん\n",
            "4年原さん\n",
            "4年外園さん\n",
            "4年江頭さん\n",
            "大学院_伊藤ゼミ_八重島さん\n",
            "3年中村さん\n",
            "2年大西さん\n",
            "2年菊池さん\n",
            "2年山崎さん\n",
            "4年河野さん\n",
            "4年原さん\n",
            "4年外園さん\n",
            "4年江頭さん\n",
            "大学院_伊藤ゼミ_八重島さん\n",
            "3年中村さん\n",
            "2年大西さん\n",
            "2年菊池さん\n",
            "2年山崎さん\n"
          ],
          "name": "stdout"
        }
      ]
    },
    {
      "cell_type": "code",
      "metadata": {
        "id": "KNtEVdTySASF",
        "colab_type": "code",
        "colab": {
          "base_uri": "https://localhost:8080/",
          "height": 177
        },
        "outputId": "13971663-8708-4b88-98d4-c63e5cbeb59b"
      },
      "source": [
        "# testは任意の文字列でよいので各自やってみる\n",
        "for i, name in enumerate(names):\n",
        "    message = '{}番目: {}さん'.format(i+1, name)\n",
        "    print(message)"
      ],
      "execution_count": null,
      "outputs": [
        {
          "output_type": "stream",
          "text": [
            "1番目: 4年河野さん\n",
            "2番目: 4年原さん\n",
            "3番目: 4年外園さん\n",
            "4番目: 4年江頭さん\n",
            "5番目: 大学院_伊藤ゼミ_八重島さん\n",
            "6番目: 3年中村さん\n",
            "7番目: 2年大西さん\n",
            "8番目: 2年菊池さん\n",
            "9番目: 2年山崎さん\n"
          ],
          "name": "stdout"
        }
      ]
    },
    {
      "cell_type": "code",
      "metadata": {
        "id": "oeXSEjU8TA-m",
        "colab_type": "code",
        "colab": {}
      },
      "source": [
        ""
      ],
      "execution_count": null,
      "outputs": []
    },
    {
      "cell_type": "code",
      "metadata": {
        "id": "TwowOxp6SOxm",
        "colab_type": "code",
        "colab": {
          "base_uri": "https://localhost:8080/",
          "height": 88
        },
        "outputId": "04bee5c3-d741-4d3b-cfa8-08984f94cf9d"
      },
      "source": [
        "\n",
        "#以下をベクトルに定義し、'ミーティング'をプログラムで加え、日時の順番もあわせて出力させましょう。\n",
        "company = [\"三井住友海上火災保険株式会社_7月20日（月）15時よりzoom\",\"株式会社イトーキ_7月21日（火）10時よりzoom\",\"丸井グループ_7月21日（火）15時よりzoom\",\"株式会社ハローデイ_7月22日（水）15時よりzoom\"]\n",
        "\n",
        "for i,zooms in enumerate(company):\n",
        "  mtg = '{}番目：{}ミーティング'.format(i+1,zooms)\n",
        "  print(mtg)\n"
      ],
      "execution_count": 35,
      "outputs": [
        {
          "output_type": "stream",
          "text": [
            "1番目：三井住友海上火災保険株式会社_7月20日（月）15時よりzoomミーティング\n",
            "2番目：株式会社イトーキ_7月21日（火）10時よりzoomミーティング\n",
            "3番目：丸井グループ_7月21日（火）15時よりzoomミーティング\n",
            "4番目：株式会社ハローデイ_7月22日（水）15時よりzoomミーティング\n"
          ],
          "name": "stdout"
        }
      ]
    }
  ]
}