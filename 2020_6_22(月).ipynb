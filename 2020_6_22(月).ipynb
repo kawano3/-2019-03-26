{
  "nbformat": 4,
  "nbformat_minor": 0,
  "metadata": {
    "colab": {
      "name": "2020/6/22.ipynb",
      "provenance": [],
      "collapsed_sections": [],
      "authorship_tag": "ABX9TyMf8WD7jY+9ITzZumpc7sci",
      "include_colab_link": true
    },
    "kernelspec": {
      "name": "python3",
      "display_name": "Python 3"
    }
  },
  "cells": [
    {
      "cell_type": "markdown",
      "metadata": {
        "id": "view-in-github",
        "colab_type": "text"
      },
      "source": [
        "<a href=\"https://colab.research.google.com/github/kawano3/-2019-03-26/blob/master/2020_6_22.ipynb\" target=\"_parent\"><img src=\"https://colab.research.google.com/assets/colab-badge.svg\" alt=\"Open In Colab\"/></a>"
      ]
    },
    {
      "cell_type": "code",
      "metadata": {
        "id": "_HcUo10N-q-2",
        "colab_type": "code",
        "colab": {
          "base_uri": "https://localhost:8080/",
          "height": 35
        },
        "outputId": "66c19626-e4b5-4d53-a215-4519d76546d8"
      },
      "source": [
        "1+1"
      ],
      "execution_count": null,
      "outputs": [
        {
          "output_type": "execute_result",
          "data": {
            "text/plain": [
              "2"
            ]
          },
          "metadata": {
            "tags": []
          },
          "execution_count": 1
        }
      ]
    },
    {
      "cell_type": "code",
      "metadata": {
        "id": "4TbMbWoi_D01",
        "colab_type": "code",
        "colab": {
          "base_uri": "https://localhost:8080/",
          "height": 35
        },
        "outputId": "797a990d-f5e6-4402-e314-62301272a9d3"
      },
      "source": [
        "2*3"
      ],
      "execution_count": null,
      "outputs": [
        {
          "output_type": "execute_result",
          "data": {
            "text/plain": [
              "6"
            ]
          },
          "metadata": {
            "tags": []
          },
          "execution_count": 2
        }
      ]
    },
    {
      "cell_type": "code",
      "metadata": {
        "id": "xM-nG4qV_MLf",
        "colab_type": "code",
        "colab": {
          "base_uri": "https://localhost:8080/",
          "height": 35
        },
        "outputId": "e7c49eca-a62d-4703-a7e8-2509e6d8f442"
      },
      "source": [
        "#変数について #print()について\n",
        "\n",
        "name = \"かわのももこ\"\n",
        "a = \"お腹すいた\"\n",
        "s = name + a\n",
        "print(s)"
      ],
      "execution_count": null,
      "outputs": [
        {
          "output_type": "stream",
          "text": [
            "かわのももこお腹すいた\n"
          ],
          "name": "stdout"
        }
      ]
    },
    {
      "cell_type": "code",
      "metadata": {
        "id": "yhsVVOU5_hbp",
        "colab_type": "code",
        "colab": {
          "base_uri": "https://localhost:8080/",
          "height": 35
        },
        "outputId": "e874fc4f-c4a7-49ef-c1d0-ed30c1eac7c4"
      },
      "source": [
        "print(s*3)"
      ],
      "execution_count": null,
      "outputs": [
        {
          "output_type": "stream",
          "text": [
            "かわのももこお腹すいたかわのももこお腹すいたかわのももこお腹すいた\n"
          ],
          "name": "stdout"
        }
      ]
    },
    {
      "cell_type": "code",
      "metadata": {
        "id": "gz-2QscQBPGR",
        "colab_type": "code",
        "colab": {
          "base_uri": "https://localhost:8080/",
          "height": 35
        },
        "outputId": "f8a20cd7-c6d1-475b-d77a-0c5a7bf34550"
      },
      "source": [
        "#str()について　数値型→文字列にする\n",
        "day = 22\n",
        "str_day = str(day)\n",
        "date = str_day + \"日\"\n",
        "date"
      ],
      "execution_count": null,
      "outputs": [
        {
          "output_type": "execute_result",
          "data": {
            "text/plain": [
              "'22日'"
            ]
          },
          "metadata": {
            "tags": []
          },
          "execution_count": 11
        }
      ]
    },
    {
      "cell_type": "code",
      "metadata": {
        "id": "Q0blTu9WBwUZ",
        "colab_type": "code",
        "colab": {
          "base_uri": "https://localhost:8080/",
          "height": 35
        },
        "outputId": "4b9a1262-286d-4ca3-ac8f-3ef8d44a7bcf"
      },
      "source": [
        "#リスト\n",
        "\n",
        "mcz = [\"れに\",\"あかり\",\"かなこ\",\"しおり\",\"あやか\",\"ゆきな\"]\n",
        "mcz"
      ],
      "execution_count": null,
      "outputs": [
        {
          "output_type": "execute_result",
          "data": {
            "text/plain": [
              "['れに', 'あかり', 'かなこ', 'しおり', 'あやか', 'ゆきな']"
            ]
          },
          "metadata": {
            "tags": []
          },
          "execution_count": 12
        }
      ]
    },
    {
      "cell_type": "code",
      "metadata": {
        "id": "gQcKlH7VHoes",
        "colab_type": "code",
        "colab": {
          "base_uri": "https://localhost:8080/",
          "height": 35
        },
        "outputId": "cb3466ee-5480-44ad-f6eb-725feed230e9"
      },
      "source": [
        "mcz[5] = \"ももか\"\n",
        "mcz"
      ],
      "execution_count": null,
      "outputs": [
        {
          "output_type": "execute_result",
          "data": {
            "text/plain": [
              "['れに', 'あかり', 'かなこ', 'しおり', 'あやか', 'ももか']"
            ]
          },
          "metadata": {
            "tags": []
          },
          "execution_count": 14
        }
      ]
    },
    {
      "cell_type": "code",
      "metadata": {
        "id": "CBsLagx9Hy3p",
        "colab_type": "code",
        "colab": {
          "base_uri": "https://localhost:8080/",
          "height": 35
        },
        "outputId": "e657e44b-c36d-474f-c5fe-030f9a513e8c"
      },
      "source": [
        "del mcz[5]\n",
        "mcz"
      ],
      "execution_count": null,
      "outputs": [
        {
          "output_type": "execute_result",
          "data": {
            "text/plain": [
              "['れに', 'あかり', 'かなこ', 'しおり', 'あやか']"
            ]
          },
          "metadata": {
            "tags": []
          },
          "execution_count": 15
        }
      ]
    },
    {
      "cell_type": "code",
      "metadata": {
        "id": "VRVuXf_CIMri",
        "colab_type": "code",
        "colab": {
          "base_uri": "https://localhost:8080/",
          "height": 35
        },
        "outputId": "949637c7-3f09-4f8e-fe64-65bac37af29a"
      },
      "source": [
        "mcz[1:3]"
      ],
      "execution_count": null,
      "outputs": [
        {
          "output_type": "execute_result",
          "data": {
            "text/plain": [
              "['あかり', 'かなこ']"
            ]
          },
          "metadata": {
            "tags": []
          },
          "execution_count": 21
        }
      ]
    },
    {
      "cell_type": "code",
      "metadata": {
        "id": "RbprFGjaIbIP",
        "colab_type": "code",
        "colab": {
          "base_uri": "https://localhost:8080/",
          "height": 106
        },
        "outputId": "fe87754b-9074-4bd6-a1a3-15933e09ed65"
      },
      "source": [
        "#for　繰り返し変数　in　シーケンス：\n",
        "#ループ内で実行するブロック\n",
        "\n",
        "mcz = ['れに', 'あかり', 'かなこ', 'しおり', 'あやか']\n",
        "for member in mcz:\n",
        "    print(member)"
      ],
      "execution_count": null,
      "outputs": [
        {
          "output_type": "stream",
          "text": [
            "れに\n",
            "あかり\n",
            "かなこ\n",
            "しおり\n",
            "あやか\n"
          ],
          "name": "stdout"
        }
      ]
    },
    {
      "cell_type": "code",
      "metadata": {
        "id": "5QSFnN7XKCmM",
        "colab_type": "code",
        "colab": {
          "base_uri": "https://localhost:8080/",
          "height": 35
        },
        "outputId": "a9f8cefc-7797-46e1-d9c0-e67e850006d9"
      },
      "source": [
        "#分散を計算する　\n",
        "team = [158,157,163,157,145]\n",
        "\n",
        "total = sum(team) #合計\n",
        "length = len(team)\n",
        "#リストの中の要素数\n",
        "mean = total/length\n",
        "#平均\n",
        "variance = 0 #分散を計算するための変数\n",
        "\n",
        "for heigth in team:\n",
        "  variance += (heigth-mean)**2\n",
        "  #身長から平均をひいて二乗した数を足す\n",
        "\n",
        "variance = variance/length\n",
        "variance"
      ],
      "execution_count": null,
      "outputs": [
        {
          "output_type": "execute_result",
          "data": {
            "text/plain": [
              "35.2"
            ]
          },
          "metadata": {
            "tags": []
          },
          "execution_count": 30
        }
      ]
    },
    {
      "cell_type": "code",
      "metadata": {
        "id": "IQgw4T-DLYjm",
        "colab_type": "code",
        "colab": {}
      },
      "source": [
        ""
      ],
      "execution_count": null,
      "outputs": []
    }
  ]
}
